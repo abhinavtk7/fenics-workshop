{
 "cells": [
  {
   "cell_type": "code",
   "execution_count": 3,
   "id": "cc61ca71-55be-487d-9548-2f792054338a",
   "metadata": {},
   "outputs": [],
   "source": [
    "# https://jsdokken.com/FEniCS-workshop/src/unified_form_language/ufl_elements.html"
   ]
  },
  {
   "cell_type": "code",
   "execution_count": 1,
   "id": "2c35f19c-ebb2-4524-83a7-6bb83c955394",
   "metadata": {},
   "outputs": [],
   "source": [
    "import basix.ufl\n",
    "\n",
    "coordinate_element = basix.ufl.element(\"Lagrange\", \"triangle\", 1, shape=(2,))"
   ]
  },
  {
   "cell_type": "code",
   "execution_count": 2,
   "id": "78daec4d-c161-48b8-89f6-1924b9856cd4",
   "metadata": {},
   "outputs": [],
   "source": [
    "import ufl\n",
    "\n",
    "domain = ufl.Mesh(coordinate_element)"
   ]
  },
  {
   "cell_type": "code",
   "execution_count": 8,
   "id": "4731bee7-9665-4fc7-8817-0437b196fd2d",
   "metadata": {},
   "outputs": [],
   "source": [
    "cell = str(domain.ufl_cell()) # 'triangle'\n",
    "\n",
    "el = basix.ufl.element(\"Lagrange\", cell, 3)"
   ]
  },
  {
   "cell_type": "code",
   "execution_count": 9,
   "id": "a0a77a64-8d7a-4bd4-8cbb-3fd793a9db77",
   "metadata": {},
   "outputs": [],
   "source": [
    "M = 3\n",
    "N = 2\n",
    "tensor_el = basix.ufl.element(\"Lagrange\", cell, 2, shape=(M, N)) # a Lagrange element describing a (M, N) tensor"
   ]
  },
  {
   "cell_type": "code",
   "execution_count": 10,
   "id": "acc8891b-646e-4b4f-b9e6-af35b4dde5c7",
   "metadata": {},
   "outputs": [],
   "source": [
    "vector_element = basix.ufl.element(\"Lagrange\", cell, 3, shape=(7,)) # a vector with 7 components "
   ]
  },
  {
   "cell_type": "code",
   "execution_count": 11,
   "id": "272ecca6-9809-4f7d-a653-b68b15528e0a",
   "metadata": {},
   "outputs": [],
   "source": [
    "curl_el = basix.ufl.element(\"N1curl\", cell, 1)\n",
    "blocked_el = basix.ufl.mixed_element([curl_el for _ in range(4)])"
   ]
  },
  {
   "cell_type": "code",
   "execution_count": 12,
   "id": "b91c96a7-aa6f-41c0-96bc-ac5c73a2a1d6",
   "metadata": {},
   "outputs": [],
   "source": [
    "vector_element = basix.ufl.element(\"Lagrange\", \"triangle\", 2, shape=(2,))\n",
    "scalar_element = basix.ufl.element(\"Lagrange\", \"triangle\", 1)"
   ]
  },
  {
   "cell_type": "code",
   "execution_count": 14,
   "id": "a6ec71b3-66d9-43e8-bdb4-d63006094185",
   "metadata": {},
   "outputs": [],
   "source": [
    "m_el = basix.ufl.mixed_element([vector_element, scalar_element]) # To create the Taylor-Hood finite element pair, we use the basix.ufl.mixed_element"
   ]
  },
  {
   "cell_type": "code",
   "execution_count": 15,
   "id": "6dd9789e-2e54-46b0-bfdc-d10c39cc7d39",
   "metadata": {},
   "outputs": [],
   "source": [
    "# Discontinuous (broken) elements\n",
    "el_dg = basix.ufl.element(\"Lagrange\", cell, 1, discontinuous=True)"
   ]
  },
  {
   "cell_type": "code",
   "execution_count": 16,
   "id": "119a2b83-1c6c-41f9-8768-1dcdbb5ee728",
   "metadata": {},
   "outputs": [],
   "source": [
    "other_el_dg = basix.ufl.element(\"DG\", cell, 1)\n",
    "assert el_dg == other_el_dg"
   ]
  },
  {
   "cell_type": "code",
   "execution_count": 17,
   "id": "1e4023d1-8238-48be-8589-77d8aafeda38",
   "metadata": {},
   "outputs": [],
   "source": [
    "# For the elements of the Lagrange family, we can use the family name “DG” to indicate that the space should be discontinous"
   ]
  },
  {
   "cell_type": "code",
   "execution_count": null,
   "id": "8cc1591b-084b-4101-b64c-92be3404c828",
   "metadata": {},
   "outputs": [],
   "source": []
  }
 ],
 "metadata": {
  "kernelspec": {
   "display_name": "Python 3 (DOLFINx complex)",
   "language": "python",
   "name": "python3-complex"
  },
  "language_info": {
   "codemirror_mode": {
    "name": "ipython",
    "version": 3
   },
   "file_extension": ".py",
   "mimetype": "text/x-python",
   "name": "python",
   "nbconvert_exporter": "python",
   "pygments_lexer": "ipython3",
   "version": "3.12.3"
  }
 },
 "nbformat": 4,
 "nbformat_minor": 5
}
